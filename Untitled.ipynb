{
 "cells": [
  {
   "cell_type": "code",
   "execution_count": 1,
   "id": "5bee88d4",
   "metadata": {},
   "outputs": [
    {
     "name": "stdout",
     "output_type": "stream",
     "text": [
      "Requirement already satisfied: pyautogui in c:\\programdata\\anaconda3\\lib\\site-packages (0.9.53)\n",
      "Requirement already satisfied: PyTweening>=1.0.1 in c:\\programdata\\anaconda3\\lib\\site-packages (from pyautogui) (1.0.4)\n",
      "Requirement already satisfied: mouseinfo in c:\\programdata\\anaconda3\\lib\\site-packages (from pyautogui) (0.1.3)\n",
      "Requirement already satisfied: pymsgbox in c:\\programdata\\anaconda3\\lib\\site-packages (from pyautogui) (1.0.9)\n",
      "Requirement already satisfied: pyscreeze>=0.1.21 in c:\\programdata\\anaconda3\\lib\\site-packages (from pyautogui) (0.1.28)\n",
      "Requirement already satisfied: pygetwindow>=0.0.5 in c:\\programdata\\anaconda3\\lib\\site-packages (from pyautogui) (0.0.9)\n",
      "Requirement already satisfied: pyrect in c:\\programdata\\anaconda3\\lib\\site-packages (from pygetwindow>=0.0.5->pyautogui) (0.1.4)\n",
      "Requirement already satisfied: Pillow>=6.2.1 in c:\\programdata\\anaconda3\\lib\\site-packages (from pyscreeze>=0.1.21->pyautogui) (8.2.0)\n",
      "Requirement already satisfied: pyperclip in c:\\programdata\\anaconda3\\lib\\site-packages (from mouseinfo->pyautogui) (1.8.2)\n",
      "Note: you may need to restart the kernel to use updated packages.\n"
     ]
    }
   ],
   "source": [
    "pip install pyautogui"
   ]
  },
  {
   "cell_type": "code",
   "execution_count": 66,
   "id": "76090c09",
   "metadata": {},
   "outputs": [
    {
     "name": "stdout",
     "output_type": "stream",
     "text": [
      "Collecting opencv-python\n",
      "  Downloading opencv_python-4.5.4.58-cp38-cp38-win_amd64.whl (35.1 MB)\n",
      "Requirement already satisfied: numpy>=1.17.3 in c:\\programdata\\anaconda3\\lib\\site-packages (from opencv-python) (1.20.1)\n",
      "Installing collected packages: opencv-python\n",
      "Successfully installed opencv-python-4.5.4.58\n",
      "Note: you may need to restart the kernel to use updated packages.\n"
     ]
    }
   ],
   "source": [
    "pip install opencv-python"
   ]
  },
  {
   "cell_type": "code",
   "execution_count": 50,
   "id": "efb89a17",
   "metadata": {},
   "outputs": [
    {
     "name": "stdout",
     "output_type": "stream",
     "text": [
      "Requirement already satisfied: requests in c:\\programdata\\anaconda3\\lib\\site-packages (2.25.1)Note: you may need to restart the kernel to use updated packages.\n",
      "Requirement already satisfied: certifi>=2017.4.17 in c:\\programdata\\anaconda3\\lib\\site-packages (from requests) (2020.12.5)\n",
      "Requirement already satisfied: idna<3,>=2.5 in c:\\programdata\\anaconda3\\lib\\site-packages (from requests) (2.10)\n",
      "Requirement already satisfied: urllib3<1.27,>=1.21.1 in c:\\programdata\\anaconda3\\lib\\site-packages (from requests) (1.26.4)\n",
      "Requirement already satisfied: chardet<5,>=3.0.2 in c:\\programdata\\anaconda3\\lib\\site-packages (from requests) (4.0.0)\n",
      "\n"
     ]
    }
   ],
   "source": [
    "pip install requests"
   ]
  },
  {
   "cell_type": "code",
   "execution_count": 3,
   "id": "97ca5c22",
   "metadata": {},
   "outputs": [],
   "source": [
    "import pyautogui\n",
    "import time \n",
    "import requests\n",
    "domain =\"http://127.0.0.1:8000\";"
   ]
  },
  {
   "cell_type": "code",
   "execution_count": 33,
   "id": "45cda219",
   "metadata": {},
   "outputs": [
    {
     "name": "stdout",
     "output_type": "stream",
     "text": [
      "{'data': [{'id': 1, 'user_id': '0842', 'type': '1', 'status': '0', 'created_at': None, 'updated_at': '2021-11-14T18:40:01.000000Z'}, {'id': 2, 'user_id': '0456', 'type': '1', 'status': '0', 'created_at': None, 'updated_at': '2021-11-14T18:40:15.000000Z'}, {'id': 3, 'user_id': 'adadsd1', 'type': '0', 'status': '0', 'created_at': None, 'updated_at': '2021-11-14T18:40:28.000000Z'}, {'id': 4, 'user_id': 'adawd1', 'type': '0', 'status': '0', 'created_at': None, 'updated_at': '2021-11-14T18:40:41.000000Z'}, {'id': 5, 'user_id': 'awdawd', 'type': '0', 'status': '0', 'created_at': None, 'updated_at': '2021-11-14T18:38:49.000000Z'}, {'id': 6, 'user_id': 'awdawd', 'type': '0', 'status': '0', 'created_at': None, 'updated_at': None}, {'id': 7, 'user_id': 'awdwadwa', 'type': '0', 'status': '0', 'created_at': None, 'updated_at': None}]}\n"
     ]
    }
   ],
   "source": [
    "\n",
    "# import urllib library\n",
    "from urllib.request import urlopen\n",
    "  \n",
    "# import json\n",
    "import json\n",
    "# store the URL in url as \n",
    "# parameter for urlopen\n",
    "\n",
    "response = requests.get(f\"{domain}/api/addline\")\n",
    "# print(response.json())\n",
    "  \n",
    "# storing the JSON response \n",
    "# from url in data\n",
    "data_json = response.json()\n",
    "  \n",
    "# print the json response\n",
    "print(data_json)\n"
   ]
  },
  {
   "cell_type": "code",
   "execution_count": 27,
   "id": "14056e43",
   "metadata": {},
   "outputs": [
    {
     "data": {
      "text/plain": [
       "{'data': [{'id': 1,\n",
       "   'data': 'waawdadsadasdcasfasfafawdwa',\n",
       "   'type': 1,\n",
       "   'order': 1,\n",
       "   'created_at': None,\n",
       "   'updated_at': None},\n",
       "  {'id': 2,\n",
       "   'data': '/service/images/1.jpg',\n",
       "   'type': 0,\n",
       "   'order': 2,\n",
       "   'created_at': None,\n",
       "   'updated_at': None},\n",
       "  {'id': 3,\n",
       "   'data': 'awdawdawdawd',\n",
       "   'type': 1,\n",
       "   'order': 3,\n",
       "   'created_at': None,\n",
       "   'updated_at': None}]}"
      ]
     },
     "execution_count": 27,
     "metadata": {},
     "output_type": "execute_result"
    }
   ],
   "source": [
    "response = requests.get(f\"{domain}/api/message\")\n",
    "data_message_json = response.json()\n",
    "data_message_json"
   ]
  },
  {
   "cell_type": "code",
   "execution_count": 86,
   "id": "9a2151b0",
   "metadata": {
    "scrolled": true
   },
   "outputs": [
    {
     "data": {
      "text/plain": [
       "43425"
      ]
     },
     "execution_count": 86,
     "metadata": {},
     "output_type": "execute_result"
    }
   ],
   "source": [
    "#โหลดรูป (ไม่ต้องรัน)\n",
    "url = f'{domain}/service/images/1.jpg'\n",
    "filename = url.split('/')[-1]\n",
    "r = requests.get(url, allow_redirects=True)\n",
    "open('pic_chat/'+filename, 'wb').write(r.content)\n",
    "# path"
   ]
  },
  {
   "cell_type": "code",
   "execution_count": null,
   "id": "c3231bc8",
   "metadata": {},
   "outputs": [],
   "source": [
    "\n",
    "# pyautogui.write('hello world')\n",
    "\n",
    "data_arr = [];\n",
    "\n",
    "for i in data_json['data']:\n",
    "#     print(i['user_id'])\n",
    "    position_add = pyautogui.locateOnScreen('pic/add.PNG')\n",
    "    pyautogui.moveTo(position_add)\n",
    "    pyautogui.click(position_add)\n",
    "    time.sleep(1)\n",
    "    position_serach_friend = pyautogui.locateOnScreen('pic/serach friend.PNG')\n",
    "    pyautogui.moveTo(position_serach_friend)\n",
    "    pyautogui.click(position_serach_friend)\n",
    "    time.sleep(1)\n",
    "   \n",
    "    if(i['type'] == '1'):\n",
    "        position_radio_line_phone = pyautogui.locateOnScreen('pic/radio line phone.PNG')\n",
    "        pyautogui.moveTo(position_radio_line_phone)\n",
    "        pyautogui.click(position_radio_line_phone)\n",
    "    else:\n",
    "        position_radio_line_id = pyautogui.locateOnScreen('pic/radio line id.PNG')\n",
    "        pyautogui.moveTo(position_radio_line_id)\n",
    "        pyautogui.click(position_radio_line_id)\n",
    "    #กดปุ่มค้นหาก่อนพิม\n",
    "    position_s = pyautogui.locateOnScreen('pic/s.PNG')\n",
    "    pyautogui.moveTo(position_s)\n",
    "    pyautogui.click(position_s)\n",
    "    time.sleep(1)\n",
    "    \n",
    "    pyautogui.hotkey('ctrl','a')\n",
    "\n",
    "    time.sleep(1)\n",
    "    pyautogui.write(i['user_id'])\n",
    "    pyautogui.hotkey('enter')\n",
    "    time.sleep(1)\n",
    "#     data_arr.append(i['id'])\n",
    "    position_lineaddbtn = pyautogui.locateOnScreen('pic/addbtn.PNG')\n",
    "    position_linebtnchat = pyautogui.locateOnScreen('pic/btnchat.PNG')\n",
    "    position_lineaccpt = pyautogui.locateOnScreen('pic/accpt.PNG')\n",
    "    \n",
    "    #เจอ\n",
    "    if position_lineaddbtn != None or position_linebtnchat != None:        \n",
    "        pyautogui.moveTo(position_lineaddbtn)\n",
    "        pyautogui.click(position_lineaddbtn)\n",
    "        time.sleep(1) \n",
    "        #กดปุ้มแชท\n",
    "        position_linebtnchat = pyautogui.locateOnScreen('pic/btnchat.PNG')\n",
    "        pyautogui.moveTo(position_linebtnchat)\n",
    "        pyautogui.click(position_linebtnchat)\n",
    "        time.sleep(1) \n",
    "        #ส่งแชท\n",
    "        if position_linebtnchat != None:\n",
    "            for j in data_message_json['data']:\n",
    "                #รูป\n",
    "                if (j['type']==0):\n",
    "                    #โหลดรูป\n",
    "                    url = f'{domain}'+j['data'];\n",
    "                    filename = url.split('/')[-1]\n",
    "                    r = requests.get(url, allow_redirects=True)\n",
    "                    open('pic_chat/'+filename, 'wb').write(r.content)\n",
    "\n",
    "                    #กดปุ่มอัพโหลด\n",
    "                    position_lineupload = pyautogui.locateOnScreen('pic/upload.PNG')\n",
    "                    pyautogui.moveTo(position_lineupload)\n",
    "                    pyautogui.click(position_lineupload)\n",
    "                    time.sleep(1) \n",
    "\n",
    "                    position_linefolder = pyautogui.locateOnScreen('pic/folder.PNG')\n",
    "                    pyautogui.moveTo(position_linefolder)\n",
    "                    pyautogui.click(position_linefolder)\n",
    "                    path = \"C:\\\\Users\\\\sumead007\\\\Desktop\\\\autoclick\\\\pic_chat\" #แก้ไข: เป็นpathรูปที่จะส่ง\n",
    "                    pyautogui.write(path)\n",
    "                    pyautogui.hotkey('enter')\n",
    "                    time.sleep(1) \n",
    "\n",
    "                    position_linefile_name = pyautogui.locateOnScreen('pic/file_name.PNG')\n",
    "                    pyautogui.moveTo(position_linefile_name)\n",
    "                    time.sleep(1) \n",
    "\n",
    "                    #เลื่อนไปทางซ้ายนิดหน่อย\n",
    "                    pyautogui.move(100, 0)\n",
    "                    pyautogui.click()\n",
    "                    time.sleep(1)     \n",
    "\n",
    "                    pyautogui.write(filename)\n",
    "\n",
    "                    #กดopen\n",
    "    #                 position_lineopen = pyautogui.locateOnScreen('pic/open.PNG')\n",
    "    #                 pyautogui.moveTo(position_lineopen)\n",
    "    #                 pyautogui.click(position_lineopen)\n",
    "                    pyautogui.hotkey('enter')\n",
    "                    time.sleep(1) \n",
    "\n",
    "                else:\n",
    "                    #ส่งแชท\n",
    "                    position_linetextbox = pyautogui.locateOnScreen('pic/textbox.PNG')\n",
    "                    pyautogui.moveTo(position_linetextbox)\n",
    "                    time.sleep(1)     \n",
    "                    pyautogui.click(position_linetextbox)\n",
    "                    pyautogui.write(j['data'])\n",
    "                    time.sleep(1)     \n",
    "                    pyautogui.hotkey('enter')\n",
    "                    time.sleep(1)     \n",
    "            pyautogui.hotkey('esc')\n",
    "            time.sleep(1) \n",
    "    else:  \n",
    "    #ไม่เจอ\n",
    "        pyautogui.moveTo(position_lineaccpt)\n",
    "        pyautogui.click(position_lineaccpt)\n",
    "    requests.put(f'{domain}/api/addline/'+str(i['id']),headers = {\"Content-Type\":\"application/json\"})\n",
    "    time.sleep(5)\n",
    "    \n",
    "# print(data_arr)\n"
   ]
  },
  {
   "cell_type": "code",
   "execution_count": 95,
   "id": "9156f54c",
   "metadata": {},
   "outputs": [
    {
     "data": {
      "text/plain": [
       "{'data': [{'id': 1,\n",
       "   'data': 'waawdadsadasdcasfasfafawdwa',\n",
       "   'type': 1,\n",
       "   'order': 1,\n",
       "   'created_at': None,\n",
       "   'updated_at': None},\n",
       "  {'id': 2,\n",
       "   'data': '/service/images/1.jpg',\n",
       "   'type': 0,\n",
       "   'order': 2,\n",
       "   'created_at': None,\n",
       "   'updated_at': None},\n",
       "  {'id': 3,\n",
       "   'data': 'awdawdawdawd',\n",
       "   'type': 1,\n",
       "   'order': 3,\n",
       "   'created_at': None,\n",
       "   'updated_at': None}]}"
      ]
     },
     "execution_count": 95,
     "metadata": {},
     "output_type": "execute_result"
    }
   ],
   "source": []
  },
  {
   "cell_type": "code",
   "execution_count": 104,
   "id": "a9d25629",
   "metadata": {},
   "outputs": [],
   "source": [
    "\n",
    "#กดปุ่มอัพโหลด\n",
    "for i in data_message_json['data']:\n",
    "    #รูป\n",
    "    if (i['type']==0):\n",
    "        #โหลดรูป\n",
    "        url = f'{domain}'+i['data'];\n",
    "        filename = url.split('/')[-1]\n",
    "        r = requests.get(url, allow_redirects=True)\n",
    "        open('pic_chat/'+filename, 'wb').write(r.content)\n",
    "        \n",
    "        #กดปุ่มอัพโหลด\n",
    "        position_lineupload = pyautogui.locateOnScreen('pic/upload.PNG')\n",
    "        pyautogui.moveTo(position_lineupload)\n",
    "        pyautogui.click(position_lineupload)\n",
    "        time.sleep(1) \n",
    "\n",
    "        position_linefolder = pyautogui.locateOnScreen('pic/folder.PNG')\n",
    "        pyautogui.moveTo(position_linefolder)\n",
    "        pyautogui.click(position_linefolder)\n",
    "        path = \"C:\\\\Users\\\\sumead007\\\\Desktop\\\\autoclick\\\\pic_chat\" #แก้ไข: เป็นpathรูปที่จะส่ง\n",
    "        pyautogui.write(path)\n",
    "        pyautogui.hotkey('enter')\n",
    "        time.sleep(1) \n",
    "\n",
    "        position_linefile_name = pyautogui.locateOnScreen('pic/file_name.PNG')\n",
    "        pyautogui.moveTo(position_linefile_name)\n",
    "        time.sleep(1) \n",
    "\n",
    "        #เลื่อนไปทางซ้ายนิดหน่อย\n",
    "        pyautogui.move(100, 0)\n",
    "        pyautogui.click()\n",
    "        pyautogui.write(filename)\n",
    "\n",
    "        #กดopen\n",
    "        position_lineopen = pyautogui.locateOnScreen('pic/open.PNG')\n",
    "        pyautogui.moveTo(position_lineopen)\n",
    "        pyautogui.click(position_lineopen)\n",
    "        \n",
    "    else:\n",
    "        #ส่งแชท\n",
    "        position_linetextbox = pyautogui.locateOnScreen('pic/textbox.PNG')\n",
    "        pyautogui.moveTo(position_linetextbox)\n",
    "        pyautogui.click(position_linetextbox)\n",
    "        time.sleep(1)     \n",
    "        pyautogui.write(i['data'])\n",
    "        pyautogui.hotkey('enter')\n",
    "        \n",
    "    time.sleep(1) \n",
    "        \n"
   ]
  },
  {
   "cell_type": "markdown",
   "id": "a4f8102f",
   "metadata": {},
   "source": [
    "import requests\n",
    "import json\n",
    "response_API = requests.get('https://api.covid19india.org/state_district_wise.json')\n",
    "#print(response_API.status_code)\n",
    "data = response_API.text\n",
    "parse_json = json.loads(data)\n",
    "active_case = parse_json['Andaman and Nicobar Islands']\n",
    "print(\"Active cases in South Andaman:\", active_case)\n"
   ]
  }
 ],
 "metadata": {
  "kernelspec": {
   "display_name": "Python 3",
   "language": "python",
   "name": "python3"
  },
  "language_info": {
   "codemirror_mode": {
    "name": "ipython",
    "version": 3
   },
   "file_extension": ".py",
   "mimetype": "text/x-python",
   "name": "python",
   "nbconvert_exporter": "python",
   "pygments_lexer": "ipython3",
   "version": "3.8.8"
  }
 },
 "nbformat": 4,
 "nbformat_minor": 5
}
